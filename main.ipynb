{
 "cells": [
  {
   "cell_type": "code",
   "execution_count": 1,
   "metadata": {},
   "outputs": [],
   "source": [
    "import numpy as np\n",
    "import sys, os\n",
    "sys.path.append(os.path.abspath(\"./utils\"))\n",
    "from graph import Node, Parameter, display_chain"
   ]
  },
  {
   "cell_type": "markdown",
   "metadata": {},
   "source": [
    "![nn](image.png)"
   ]
  },
  {
   "cell_type": "markdown",
   "metadata": {},
   "source": [
    "# Math behind gradient descent\n",
    "\n",
    "## Definitions\n",
    "\n",
    "- $X=a^0$ is the input data\n",
    "- $a_k^j = f(z_k^j) = f(\\sum_{i=1}^{m_{j-1}} w_{i,k}^{j-1} a_i^{j-1} + b_k^{j-1})$ is the output of the $k$-th neuron in the $j$-th layer, with activation function $f$. The weights are $w$ and the bias is $b$.\n",
    "- We can also write this in matrix form: $a^j = f(z^j)$ with $z^j = w^{j-1} a^{j-1} + b^{j-1} \\in R^{m_j}$ note that here the weights are a matrix with dimensions $w^{j-1}\\in R^{m_{j}\\times m_{j-1}}$ and the bias $b^{j-1}\\in R^{m_j}$.\n",
    "\n",
    "## Activation function\n",
    "\n",
    "We use the Relu function as activation function, hence we use:\n",
    "$$f(x) = max(0, x)$$\n",
    "\n",
    "## Sotfmax function\n",
    "\n",
    "In order to scale the ouput vector to a probability distribution, we use the softmax function for the output layer L:\n",
    "$$\\hat{y} = \\sigma(a^L) = \\frac{e^{a^L}}{\\sum_{j} e^{a^L}}$$\n",
    "\n",
    "## Loss function\n",
    "\n",
    "We use the negative log likelihood as loss function:\n",
    "$$L(\\hat{y}, y) = -\\sum_{k} y_k \\log(\\hat{y_k})$$\n",
    "\n",
    "## Gradient descent\n",
    "\n",
    "The gradient descent algorithm is used to minimize the loss function. The weights and biases are updated as follows:\n",
    "$$w_{new}^{j} = w^{j} - \\alpha \\frac{\\partial L}{\\partial w^{j}}$$\n",
    "and\n",
    "$$b_{new}^j = b^j - \\alpha \\frac{\\partial L}{\\partial b^j}$$\n",
    "with $\\alpha$ being the learning rate.\n",
    "\n",
    "### Complete function\n",
    "\n",
    "We see that the loss function is depending on the output of the last layer, hence we need to compute the gradient of the loss function with respect to the output of the last layer. We can then use the chain rule to compute the gradient of the loss function with respect to the weights and biases of the network. For example for weight $w_i$ and bias $b_i$ in layer i we have:\n",
    "$$L(\\hat{y}, y) = L(\\sigma(a^L), y) = L(\\sigma(f(a^{L-1}))) = L(\\sigma(f(...f(z^{j})...))) = L(\\sigma(f(...f(w^ja^{j}+b^j))...))$$\n",
    "Hence, with chain rule we get for the derivate\n",
    "$$\\frac{\\partial L}{\\partial w^{j}} = \\frac{\\partial L}{\\partial \\hat{y}} \\frac{\\partial \\hat{y}}{\\partial w^{j}}= \\frac{\\partial L}{\\partial \\hat{y}} \\frac{\\partial \\hat{y}}{\\partial a^L}\\frac{\\partial a^L}{\\partial a^{L-1}}...\\frac{\\partial a^{j+1}}{\\partial w^{j}}$$\n",
    "\n",
    "## Derivatives\n",
    "\n",
    "This means we can use backwards propagation to compute the derivatives of the loss function with respect to the weights and biases. Since most of the functions are basic copmutations we can easily compute the derivatives for each operation (instead of doing it all analytically). Let's implement the forward and backward (using the gradient) steps for the following operations:\n",
    "- Relu activation function\n",
    "- Softmax function\n",
    "- Negative log likelihood loss function\n",
    "- Matrix Multiplication\n",
    "- Vector Addition"
   ]
  },
  {
   "cell_type": "code",
   "execution_count": 2,
   "metadata": {},
   "outputs": [],
   "source": [
    "class MatMul(Node):\n",
    "    def forward(self, x, w):\n",
    "        return x @ w # multiply the two matrices.\n",
    "\n",
    "    def backward(self, grad):\n",
    "        x, w = self.cache\n",
    "        # return the input gradient times the weights as the gradient on x (a)\n",
    "        # the input x values (from the forward pass) times the input gradient is the gradient on the weights\n",
    "        return grad @ w.T, x.T @ grad\n",
    "\n",
    "class Add(Node):\n",
    "    def forward(self, x, b):\n",
    "        return x + b\n",
    "\n",
    "    def backward(self, grad):\n",
    "        # derivative with respect to x and with respect to b\n",
    "        return grad, grad\n",
    "\n",
    "class Relu(Node):\n",
    "    def forward(self, x):\n",
    "        return np.maximum(x, 0)\n",
    "\n",
    "    def backward(self, grad):\n",
    "        x = self.cache[0]\n",
    "        new_grad = np.array(grad)\n",
    "        # The derivative of relu is 0 when the input\n",
    "        # in the forward pass was below 0\n",
    "        # 1 otherwise\n",
    "        new_grad[x < 0] = 0\n",
    "        return new_grad"
   ]
  },
  {
   "cell_type": "code",
   "execution_count": 3,
   "metadata": {},
   "outputs": [],
   "source": [
    "def softmax_grad_func(softmax, loss_grad):\n",
    "    output = np.zeros_like(softmax)\n",
    "    for i in range(softmax.shape[0]):\n",
    "        sm_row = softmax[i,:]\n",
    "        sm_grad = (-np.outer(sm_row, sm_row) + np.diag(sm_row.flatten()))\n",
    "        row_grad = sm_grad * loss_grad[i,:].reshape(1,-1)\n",
    "        output[i,:] = np.sum(row_grad, -1)\n",
    "    return output"
   ]
  },
  {
   "cell_type": "code",
   "execution_count": 4,
   "metadata": {},
   "outputs": [],
   "source": [
    "class Softmax(Node):\n",
    "    def forward(self, x):\n",
    "        raised = np.exp(x)\n",
    "        output = raised / np.sum(raised, axis=1).reshape(-1,1)\n",
    "        return output\n",
    "\n",
    "    def backward(self, grad):\n",
    "        x = self.cache[0]\n",
    "        softmax = self.forward(x)\n",
    "        return softmax_grad_func(softmax, grad)"
   ]
  },
  {
   "cell_type": "code",
   "execution_count": 5,
   "metadata": {},
   "outputs": [
    {
     "name": "stderr",
     "output_type": "stream",
     "text": [
      "/Users/mzwiesl/Repos/Free/gradient/utils/data.py:188: FutureWarning: Downcasting behavior in `replace` is deprecated and will be removed in a future version. To retain the old behavior, explicitly call `result.infer_objects(copy=False)`. To opt-in to the future behavior, set `pd.set_option('future.no_silent_downcasting', True)`\n",
      "  data[self.target] = data[self.target].replace(\n",
      "/Users/mzwiesl/Repos/Free/gradient/.venv/lib/python3.11/site-packages/numpy/core/fromnumeric.py:59: FutureWarning: 'DataFrame.swapaxes' is deprecated and will be removed in a future version. Please use 'DataFrame.transpose' instead.\n",
      "  return bound(*args, **kwds)\n"
     ]
    }
   ],
   "source": [
    "from data import SkyServerDatasetWrapper\n",
    "\n",
    "# Load the data\n",
    "wrapper = SkyServerDatasetWrapper()\n",
    "[train_x, train_y], [valid_x, valid_y], [test_x, test_y] = wrapper.get_flat_datasets()"
   ]
  },
  {
   "cell_type": "code",
   "execution_count": 6,
   "metadata": {},
   "outputs": [],
   "source": [
    "def encode(target, max_value=3):\n",
    "    # A matrix with 3 columns\n",
    "    encoded = np.zeros((target.shape[0], max_value))\n",
    "    # Setup the indices that we'll set to one\n",
    "    inds = (np.arange(0,target.shape[0]), target.reshape(-1))\n",
    "    # Set the target positions to 1\n",
    "    encoded[inds] = 1\n",
    "    return encoded\n",
    "\n",
    "train_y = encode(train_y)"
   ]
  },
  {
   "cell_type": "code",
   "execution_count": 7,
   "metadata": {},
   "outputs": [],
   "source": [
    "# Set a seed so we can reproduce results\n",
    "np.random.seed(0)\n",
    "w1 = np.random.rand(13, 10)\n",
    "b1 = np.random.rand(1, 10)\n",
    "w2 = np.random.rand(10, 3)\n",
    "b2 = np.random.rand(1, 3)"
   ]
  },
  {
   "cell_type": "code",
   "execution_count": 8,
   "metadata": {},
   "outputs": [],
   "source": [
    "X = Parameter(train_x, desc=\"X\", needs_grad=False)\n",
    "Y = Parameter(train_y, desc=\"y\", needs_grad=False)\n",
    "\n",
    "w1_param = Parameter(w1, desc=\"W1\")\n",
    "b1_param = Parameter(b1, desc=\"b1\")\n",
    "\n",
    "matmul1 = MatMul(X, w1_param, out=\"X @ W1\")\n",
    "add1 = Add(matmul1, b1_param, out=\"Z1\")\n",
    "\n",
    "layer1 = Relu(add1, out=\"A1\")\n",
    "\n",
    "w2_param = Parameter(w2, desc=\"W2\")\n",
    "b2_param = Parameter(b2, desc=\"b2\")\n",
    "matmul2 = MatMul(layer1, w2_param, out=\"Z1 @ W2\")\n",
    "add2 = Add(matmul2, b2_param, out=\"Z2\")\n",
    "\n",
    "softmax = Softmax(add2, out=\"softmax(Z2)\")"
   ]
  },
  {
   "cell_type": "code",
   "execution_count": 9,
   "metadata": {},
   "outputs": [
    {
     "data": {
      "image/svg+xml": [
       "<?xml version=\"1.0\" encoding=\"UTF-8\" standalone=\"no\"?>\n",
       "<!DOCTYPE svg PUBLIC \"-//W3C//DTD SVG 1.1//EN\"\n",
       " \"http://www.w3.org/Graphics/SVG/1.1/DTD/svg11.dtd\">\n",
       "<!-- Generated by graphviz version 12.1.2 (20240928.0832)\n",
       " -->\n",
       "<!-- Title: fwd_pass Pages: 1 -->\n",
       "<svg width=\"870pt\" height=\"189pt\"\n",
       " viewBox=\"0.00 0.00 869.75 189.00\" xmlns=\"http://www.w3.org/2000/svg\" xmlns:xlink=\"http://www.w3.org/1999/xlink\">\n",
       "<g id=\"graph0\" class=\"graph\" transform=\"scale(1 1) rotate(0) translate(4 185)\">\n",
       "<title>fwd_pass</title>\n",
       "<polygon fill=\"white\" stroke=\"none\" points=\"-4,4 -4,-185 865.75,-185 865.75,4 -4,4\"/>\n",
       "<!-- 14679793168 -->\n",
       "<g id=\"node1\" class=\"node\">\n",
       "<title>14679793168</title>\n",
       "<ellipse fill=\"none\" stroke=\"black\" cx=\"819.1\" cy=\"-38\" rx=\"42.65\" ry=\"18\"/>\n",
       "<text text-anchor=\"middle\" x=\"819.1\" y=\"-32.95\" font-family=\"Times,serif\" font-size=\"14.00\">Softmax</text>\n",
       "</g>\n",
       "<!-- 14674350224 -->\n",
       "<g id=\"node2\" class=\"node\">\n",
       "<title>14674350224</title>\n",
       "<ellipse fill=\"none\" stroke=\"black\" cx=\"698.45\" cy=\"-38\" rx=\"27\" ry=\"18\"/>\n",
       "<text text-anchor=\"middle\" x=\"698.45\" y=\"-32.95\" font-family=\"Times,serif\" font-size=\"14.00\">Add</text>\n",
       "</g>\n",
       "<!-- 14674350224&#45;&gt;14679793168 -->\n",
       "<g id=\"edge10\" class=\"edge\">\n",
       "<title>14674350224&#45;&gt;14679793168</title>\n",
       "<path fill=\"none\" stroke=\"black\" d=\"M725.78,-38C737.3,-38 751.25,-38 764.79,-38\"/>\n",
       "<polygon fill=\"black\" stroke=\"black\" points=\"764.48,-41.5 774.48,-38 764.48,-34.5 764.48,-41.5\"/>\n",
       "<text text-anchor=\"middle\" x=\"750.95\" y=\"-41.2\" font-family=\"Times,serif\" font-size=\"14.00\">Z2</text>\n",
       "</g>\n",
       "<!-- 14662760720 -->\n",
       "<g id=\"node3\" class=\"node\">\n",
       "<title>14662760720</title>\n",
       "<ellipse fill=\"none\" stroke=\"black\" cx=\"539.31\" cy=\"-72\" rx=\"42.14\" ry=\"18\"/>\n",
       "<text text-anchor=\"middle\" x=\"539.31\" y=\"-66.95\" font-family=\"Times,serif\" font-size=\"14.00\">MatMul</text>\n",
       "</g>\n",
       "<!-- 14662760720&#45;&gt;14674350224 -->\n",
       "<g id=\"edge8\" class=\"edge\">\n",
       "<title>14662760720&#45;&gt;14674350224</title>\n",
       "<path fill=\"none\" stroke=\"black\" d=\"M577.55,-63.94C602.78,-58.48 635.95,-51.31 661.01,-45.88\"/>\n",
       "<polygon fill=\"black\" stroke=\"black\" points=\"661.73,-49.31 670.76,-43.77 660.25,-42.47 661.73,-49.31\"/>\n",
       "<text text-anchor=\"middle\" x=\"626.45\" y=\"-62.25\" font-family=\"Times,serif\" font-size=\"14.00\">Z1 @ W2</text>\n",
       "</g>\n",
       "<!-- 14679621136 -->\n",
       "<g id=\"node4\" class=\"node\">\n",
       "<title>14679621136</title>\n",
       "<ellipse fill=\"none\" stroke=\"black\" cx=\"412.6\" cy=\"-102\" rx=\"28.32\" ry=\"18\"/>\n",
       "<text text-anchor=\"middle\" x=\"412.6\" y=\"-96.95\" font-family=\"Times,serif\" font-size=\"14.00\">Relu</text>\n",
       "</g>\n",
       "<!-- 14679621136&#45;&gt;14662760720 -->\n",
       "<g id=\"edge6\" class=\"edge\">\n",
       "<title>14679621136&#45;&gt;14662760720</title>\n",
       "<path fill=\"none\" stroke=\"black\" d=\"M439.44,-95.78C454.3,-92.21 473.44,-87.6 490.92,-83.4\"/>\n",
       "<polygon fill=\"black\" stroke=\"black\" points=\"491.72,-86.81 500.63,-81.06 490.08,-80 491.72,-86.81\"/>\n",
       "<text text-anchor=\"middle\" x=\"469.04\" y=\"-93.77\" font-family=\"Times,serif\" font-size=\"14.00\">A1</text>\n",
       "</g>\n",
       "<!-- 14679792976 -->\n",
       "<g id=\"node5\" class=\"node\">\n",
       "<title>14679792976</title>\n",
       "<ellipse fill=\"none\" stroke=\"black\" cx=\"306.28\" cy=\"-102\" rx=\"27\" ry=\"18\"/>\n",
       "<text text-anchor=\"middle\" x=\"306.28\" y=\"-96.95\" font-family=\"Times,serif\" font-size=\"14.00\">Add</text>\n",
       "</g>\n",
       "<!-- 14679792976&#45;&gt;14679621136 -->\n",
       "<g id=\"edge5\" class=\"edge\">\n",
       "<title>14679792976&#45;&gt;14679621136</title>\n",
       "<path fill=\"none\" stroke=\"black\" d=\"M333.6,-102C345.34,-102 359.41,-102 372.35,-102\"/>\n",
       "<polygon fill=\"black\" stroke=\"black\" points=\"372.31,-105.5 382.31,-102 372.31,-98.5 372.31,-105.5\"/>\n",
       "<text text-anchor=\"middle\" x=\"358.78\" y=\"-105.2\" font-family=\"Times,serif\" font-size=\"14.00\">Z1</text>\n",
       "</g>\n",
       "<!-- 14679792848 -->\n",
       "<g id=\"node6\" class=\"node\">\n",
       "<title>14679792848</title>\n",
       "<ellipse fill=\"none\" stroke=\"black\" cx=\"152.39\" cy=\"-136\" rx=\"42.14\" ry=\"18\"/>\n",
       "<text text-anchor=\"middle\" x=\"152.39\" y=\"-130.95\" font-family=\"Times,serif\" font-size=\"14.00\">MatMul</text>\n",
       "</g>\n",
       "<!-- 14679792848&#45;&gt;14679792976 -->\n",
       "<g id=\"edge3\" class=\"edge\">\n",
       "<title>14679792848&#45;&gt;14679792976</title>\n",
       "<path fill=\"none\" stroke=\"black\" d=\"M190.16,-127.77C214.15,-122.4 245.33,-115.42 269.18,-110.08\"/>\n",
       "<polygon fill=\"black\" stroke=\"black\" points=\"269.77,-113.53 278.77,-107.93 268.24,-106.7 269.77,-113.53\"/>\n",
       "<text text-anchor=\"middle\" x=\"236.9\" y=\"-125.25\" font-family=\"Times,serif\" font-size=\"14.00\">X @ W1</text>\n",
       "</g>\n",
       "<!-- 14679792272 -->\n",
       "<g id=\"node7\" class=\"node\">\n",
       "<title>14679792272</title>\n",
       "<ellipse fill=\"none\" stroke=\"black\" cx=\"27\" cy=\"-163\" rx=\"27\" ry=\"18\"/>\n",
       "<text text-anchor=\"middle\" x=\"27\" y=\"-157.95\" font-family=\"Times,serif\" font-size=\"14.00\">X</text>\n",
       "</g>\n",
       "<!-- 14679792272&#45;&gt;14679792848 -->\n",
       "<g id=\"edge1\" class=\"edge\">\n",
       "<title>14679792272&#45;&gt;14679792848</title>\n",
       "<path fill=\"none\" stroke=\"black\" d=\"M52.97,-157.54C67.41,-154.38 86.07,-150.29 103.26,-146.53\"/>\n",
       "<polygon fill=\"black\" stroke=\"black\" points=\"103.78,-150 112.8,-144.44 102.28,-143.16 103.78,-150\"/>\n",
       "<text text-anchor=\"middle\" x=\"82.12\" y=\"-155.91\" font-family=\"Times,serif\" font-size=\"14.00\">X</text>\n",
       "</g>\n",
       "<!-- 14679792080 -->\n",
       "<g id=\"node8\" class=\"node\">\n",
       "<title>14679792080</title>\n",
       "<ellipse fill=\"none\" stroke=\"black\" cx=\"27\" cy=\"-109\" rx=\"27\" ry=\"18\"/>\n",
       "<text text-anchor=\"middle\" x=\"27\" y=\"-103.95\" font-family=\"Times,serif\" font-size=\"14.00\">W1</text>\n",
       "</g>\n",
       "<!-- 14679792080&#45;&gt;14679792848 -->\n",
       "<g id=\"edge2\" class=\"edge\">\n",
       "<title>14679792080&#45;&gt;14679792848</title>\n",
       "<path fill=\"none\" stroke=\"black\" d=\"M52.97,-114.46C67.41,-117.62 86.07,-121.71 103.26,-125.47\"/>\n",
       "<polygon fill=\"black\" stroke=\"black\" points=\"102.28,-128.84 112.8,-127.56 103.78,-122 102.28,-128.84\"/>\n",
       "<text text-anchor=\"middle\" x=\"82.12\" y=\"-125.7\" font-family=\"Times,serif\" font-size=\"14.00\">W1</text>\n",
       "</g>\n",
       "<!-- 14679792016 -->\n",
       "<g id=\"node9\" class=\"node\">\n",
       "<title>14679792016</title>\n",
       "<ellipse fill=\"none\" stroke=\"black\" cx=\"152.39\" cy=\"-82\" rx=\"27\" ry=\"18\"/>\n",
       "<text text-anchor=\"middle\" x=\"152.39\" y=\"-76.95\" font-family=\"Times,serif\" font-size=\"14.00\">b1</text>\n",
       "</g>\n",
       "<!-- 14679792016&#45;&gt;14679792976 -->\n",
       "<g id=\"edge4\" class=\"edge\">\n",
       "<title>14679792016&#45;&gt;14679792976</title>\n",
       "<path fill=\"none\" stroke=\"black\" d=\"M179.71,-82.77C201.65,-83.73 233.67,-85.84 261.28,-90.5 264.24,-91 267.3,-91.61 270.35,-92.27\"/>\n",
       "<polygon fill=\"black\" stroke=\"black\" points=\"269.22,-95.6 279.77,-94.54 270.86,-88.8 269.22,-95.6\"/>\n",
       "<text text-anchor=\"middle\" x=\"236.9\" y=\"-93.7\" font-family=\"Times,serif\" font-size=\"14.00\">b1</text>\n",
       "</g>\n",
       "<!-- 14668659280 -->\n",
       "<g id=\"node10\" class=\"node\">\n",
       "<title>14668659280</title>\n",
       "<ellipse fill=\"none\" stroke=\"black\" cx=\"412.6\" cy=\"-48\" rx=\"27\" ry=\"18\"/>\n",
       "<text text-anchor=\"middle\" x=\"412.6\" y=\"-42.95\" font-family=\"Times,serif\" font-size=\"14.00\">W2</text>\n",
       "</g>\n",
       "<!-- 14668659280&#45;&gt;14662760720 -->\n",
       "<g id=\"edge7\" class=\"edge\">\n",
       "<title>14668659280&#45;&gt;14662760720</title>\n",
       "<path fill=\"none\" stroke=\"black\" d=\"M439.57,-50.6C451.66,-52 466.21,-53.97 479.17,-56.5 483.5,-57.34 487.98,-58.32 492.45,-59.37\"/>\n",
       "<polygon fill=\"black\" stroke=\"black\" points=\"491.44,-62.72 501.98,-61.72 493.11,-55.93 491.44,-62.72\"/>\n",
       "<text text-anchor=\"middle\" x=\"469.04\" y=\"-59.7\" font-family=\"Times,serif\" font-size=\"14.00\">W2</text>\n",
       "</g>\n",
       "<!-- 14678938384 -->\n",
       "<g id=\"node11\" class=\"node\">\n",
       "<title>14678938384</title>\n",
       "<ellipse fill=\"none\" stroke=\"black\" cx=\"539.31\" cy=\"-18\" rx=\"27\" ry=\"18\"/>\n",
       "<text text-anchor=\"middle\" x=\"539.31\" y=\"-12.95\" font-family=\"Times,serif\" font-size=\"14.00\">b2</text>\n",
       "</g>\n",
       "<!-- 14678938384&#45;&gt;14674350224 -->\n",
       "<g id=\"edge9\" class=\"edge\">\n",
       "<title>14678938384&#45;&gt;14674350224</title>\n",
       "<path fill=\"none\" stroke=\"black\" d=\"M566.53,-18.63C589.56,-19.5 623.91,-21.57 653.45,-26.5 656.41,-26.99 659.47,-27.6 662.52,-28.26\"/>\n",
       "<polygon fill=\"black\" stroke=\"black\" points=\"661.4,-31.59 671.94,-30.53 663.03,-24.79 661.4,-31.59\"/>\n",
       "<text text-anchor=\"middle\" x=\"626.45\" y=\"-29.7\" font-family=\"Times,serif\" font-size=\"14.00\">b2</text>\n",
       "</g>\n",
       "</g>\n",
       "</svg>\n"
      ],
      "text/plain": [
       "<graphviz.graphs.Digraph at 0x10d1a8f50>"
      ]
     },
     "execution_count": 9,
     "metadata": {},
     "output_type": "execute_result"
    }
   ],
   "source": [
    "softmax.generate_graph()"
   ]
  },
  {
   "cell_type": "code",
   "execution_count": 10,
   "metadata": {},
   "outputs": [
    {
     "data": {
      "image/svg+xml": [
       "<?xml version=\"1.0\" encoding=\"UTF-8\" standalone=\"no\"?>\n",
       "<!DOCTYPE svg PUBLIC \"-//W3C//DTD SVG 1.1//EN\"\n",
       " \"http://www.w3.org/Graphics/SVG/1.1/DTD/svg11.dtd\">\n",
       "<!-- Generated by graphviz version 12.1.2 (20240928.0832)\n",
       " -->\n",
       "<!-- Title: fwd_pass Pages: 1 -->\n",
       "<svg width=\"964pt\" height=\"189pt\"\n",
       " viewBox=\"0.00 0.00 964.25 189.00\" xmlns=\"http://www.w3.org/2000/svg\" xmlns:xlink=\"http://www.w3.org/1999/xlink\">\n",
       "<g id=\"graph0\" class=\"graph\" transform=\"scale(1 1) rotate(0) translate(4 185)\">\n",
       "<title>fwd_pass</title>\n",
       "<polygon fill=\"white\" stroke=\"none\" points=\"-4,4 -4,-185 960.25,-185 960.25,4 -4,4\"/>\n",
       "<!-- 14679793168 -->\n",
       "<g id=\"node1\" class=\"node\">\n",
       "<title>14679793168</title>\n",
       "<ellipse fill=\"none\" stroke=\"black\" cx=\"42.65\" cy=\"-38\" rx=\"42.65\" ry=\"18\"/>\n",
       "<text text-anchor=\"middle\" x=\"42.65\" y=\"-32.95\" font-family=\"Times,serif\" font-size=\"14.00\">Softmax</text>\n",
       "</g>\n",
       "<!-- 14674350224 -->\n",
       "<g id=\"node2\" class=\"node\">\n",
       "<title>14674350224</title>\n",
       "<ellipse fill=\"none\" stroke=\"black\" cx=\"179.05\" cy=\"-38\" rx=\"27\" ry=\"18\"/>\n",
       "<text text-anchor=\"middle\" x=\"179.05\" y=\"-32.95\" font-family=\"Times,serif\" font-size=\"14.00\">Add</text>\n",
       "</g>\n",
       "<!-- 14679793168&#45;&gt;14674350224 -->\n",
       "<g id=\"edge10\" class=\"edge\">\n",
       "<title>14679793168&#45;&gt;14674350224</title>\n",
       "<path fill=\"none\" stroke=\"red\" d=\"M85.44,-38C103.1,-38 123.5,-38 140.65,-38\"/>\n",
       "<polygon fill=\"red\" stroke=\"red\" points=\"140.42,-41.5 150.42,-38 140.42,-34.5 140.42,-41.5\"/>\n",
       "<text text-anchor=\"middle\" x=\"118.68\" y=\"-41.2\" font-family=\"Times,serif\" font-size=\"14.00\">d(Z2)</text>\n",
       "</g>\n",
       "<!-- 14662760720 -->\n",
       "<g id=\"node3\" class=\"node\">\n",
       "<title>14662760720</title>\n",
       "<ellipse fill=\"none\" stroke=\"black\" cx=\"353.94\" cy=\"-72\" rx=\"42.14\" ry=\"18\"/>\n",
       "<text text-anchor=\"middle\" x=\"353.94\" y=\"-66.95\" font-family=\"Times,serif\" font-size=\"14.00\">MatMul</text>\n",
       "</g>\n",
       "<!-- 14674350224&#45;&gt;14662760720 -->\n",
       "<g id=\"edge8\" class=\"edge\">\n",
       "<title>14674350224&#45;&gt;14662760720</title>\n",
       "<path fill=\"none\" stroke=\"red\" d=\"M205.19,-42.94C230.99,-48.02 271.81,-56.05 304.01,-62.38\"/>\n",
       "<polygon fill=\"red\" stroke=\"red\" points=\"303.03,-65.75 313.52,-64.25 304.38,-58.88 303.03,-65.75\"/>\n",
       "<text text-anchor=\"middle\" x=\"258.93\" y=\"-63.23\" font-family=\"Times,serif\" font-size=\"14.00\">d(Z1 @ W2)</text>\n",
       "</g>\n",
       "<!-- 14678938384 -->\n",
       "<g id=\"node11\" class=\"node\">\n",
       "<title>14678938384</title>\n",
       "<ellipse fill=\"none\" stroke=\"black\" cx=\"353.94\" cy=\"-18\" rx=\"27\" ry=\"18\"/>\n",
       "<text text-anchor=\"middle\" x=\"353.94\" y=\"-12.95\" font-family=\"Times,serif\" font-size=\"14.00\">b2</text>\n",
       "</g>\n",
       "<!-- 14674350224&#45;&gt;14678938384 -->\n",
       "<g id=\"edge9\" class=\"edge\">\n",
       "<title>14674350224&#45;&gt;14678938384</title>\n",
       "<path fill=\"none\" stroke=\"red\" d=\"M204.08,-30.84C210.52,-29.16 217.5,-27.56 224.05,-26.5 254.57,-21.55 289.61,-19.47 315.44,-18.6\"/>\n",
       "<polygon fill=\"red\" stroke=\"red\" points=\"315.2,-22.11 325.1,-18.32 315,-15.11 315.2,-22.11\"/>\n",
       "<text text-anchor=\"middle\" x=\"258.93\" y=\"-29.7\" font-family=\"Times,serif\" font-size=\"14.00\">d(b2)</text>\n",
       "</g>\n",
       "<!-- 14679621136 -->\n",
       "<g id=\"node4\" class=\"node\">\n",
       "<title>14679621136</title>\n",
       "<ellipse fill=\"none\" stroke=\"black\" cx=\"496.4\" cy=\"-102\" rx=\"28.32\" ry=\"18\"/>\n",
       "<text text-anchor=\"middle\" x=\"496.4\" y=\"-96.95\" font-family=\"Times,serif\" font-size=\"14.00\">Relu</text>\n",
       "</g>\n",
       "<!-- 14662760720&#45;&gt;14679621136 -->\n",
       "<g id=\"edge6\" class=\"edge\">\n",
       "<title>14662760720&#45;&gt;14679621136</title>\n",
       "<path fill=\"none\" stroke=\"red\" d=\"M392.21,-79.96C412.55,-84.31 437.66,-89.67 458.02,-94.02\"/>\n",
       "<polygon fill=\"red\" stroke=\"red\" points=\"457.09,-97.4 467.6,-96.06 458.55,-90.55 457.09,-97.4\"/>\n",
       "<text text-anchor=\"middle\" x=\"432.08\" y=\"-95.5\" font-family=\"Times,serif\" font-size=\"14.00\">d(A1)</text>\n",
       "</g>\n",
       "<!-- 14668659280 -->\n",
       "<g id=\"node10\" class=\"node\">\n",
       "<title>14668659280</title>\n",
       "<ellipse fill=\"none\" stroke=\"black\" cx=\"496.4\" cy=\"-48\" rx=\"27\" ry=\"18\"/>\n",
       "<text text-anchor=\"middle\" x=\"496.4\" y=\"-42.95\" font-family=\"Times,serif\" font-size=\"14.00\">W2</text>\n",
       "</g>\n",
       "<!-- 14662760720&#45;&gt;14668659280 -->\n",
       "<g id=\"edge7\" class=\"edge\">\n",
       "<title>14662760720&#45;&gt;14668659280</title>\n",
       "<path fill=\"none\" stroke=\"red\" d=\"M389.45,-62.01C397.48,-59.95 406.04,-57.97 414.08,-56.5 428.37,-53.9 444.23,-52.02 458.13,-50.7\"/>\n",
       "<polygon fill=\"red\" stroke=\"red\" points=\"458.09,-54.21 467.75,-49.85 457.48,-47.24 458.09,-54.21\"/>\n",
       "<text text-anchor=\"middle\" x=\"432.08\" y=\"-59.7\" font-family=\"Times,serif\" font-size=\"14.00\">d(W2)</text>\n",
       "</g>\n",
       "<!-- 14679792976 -->\n",
       "<g id=\"node5\" class=\"node\">\n",
       "<title>14679792976</title>\n",
       "<ellipse fill=\"none\" stroke=\"black\" cx=\"618.47\" cy=\"-102\" rx=\"27\" ry=\"18\"/>\n",
       "<text text-anchor=\"middle\" x=\"618.47\" y=\"-96.95\" font-family=\"Times,serif\" font-size=\"14.00\">Add</text>\n",
       "</g>\n",
       "<!-- 14679621136&#45;&gt;14679792976 -->\n",
       "<g id=\"edge5\" class=\"edge\">\n",
       "<title>14679621136&#45;&gt;14679792976</title>\n",
       "<path fill=\"none\" stroke=\"red\" d=\"M524.95,-102C541.22,-102 562.06,-102 579.84,-102\"/>\n",
       "<polygon fill=\"red\" stroke=\"red\" points=\"579.77,-105.5 589.77,-102 579.77,-98.5 579.77,-105.5\"/>\n",
       "<text text-anchor=\"middle\" x=\"558.09\" y=\"-105.2\" font-family=\"Times,serif\" font-size=\"14.00\">d(Z1)</text>\n",
       "</g>\n",
       "<!-- 14679792848 -->\n",
       "<g id=\"node6\" class=\"node\">\n",
       "<title>14679792848</title>\n",
       "<ellipse fill=\"none\" stroke=\"black\" cx=\"788.11\" cy=\"-136\" rx=\"42.14\" ry=\"18\"/>\n",
       "<text text-anchor=\"middle\" x=\"788.11\" y=\"-130.95\" font-family=\"Times,serif\" font-size=\"14.00\">MatMul</text>\n",
       "</g>\n",
       "<!-- 14679792976&#45;&gt;14679792848 -->\n",
       "<g id=\"edge3\" class=\"edge\">\n",
       "<title>14679792976&#45;&gt;14679792848</title>\n",
       "<path fill=\"none\" stroke=\"red\" d=\"M644.57,-107.09C669.3,-112.11 707.73,-119.9 738.46,-126.13\"/>\n",
       "<polygon fill=\"red\" stroke=\"red\" points=\"737.42,-129.49 747.91,-128.05 738.81,-122.63 737.42,-129.49\"/>\n",
       "<text text-anchor=\"middle\" x=\"695.72\" y=\"-126.25\" font-family=\"Times,serif\" font-size=\"14.00\">d(X @ W1)</text>\n",
       "</g>\n",
       "<!-- 14679792016 -->\n",
       "<g id=\"node9\" class=\"node\">\n",
       "<title>14679792016</title>\n",
       "<ellipse fill=\"none\" stroke=\"black\" cx=\"788.11\" cy=\"-82\" rx=\"27\" ry=\"18\"/>\n",
       "<text text-anchor=\"middle\" x=\"788.11\" y=\"-76.95\" font-family=\"Times,serif\" font-size=\"14.00\">b1</text>\n",
       "</g>\n",
       "<!-- 14679792976&#45;&gt;14679792016 -->\n",
       "<g id=\"edge4\" class=\"edge\">\n",
       "<title>14679792976&#45;&gt;14679792016</title>\n",
       "<path fill=\"none\" stroke=\"red\" d=\"M643.5,-94.85C649.94,-93.18 656.92,-91.57 663.47,-90.5 692.12,-85.81 724.91,-83.71 749.52,-82.76\"/>\n",
       "<polygon fill=\"red\" stroke=\"red\" points=\"749.5,-86.26 759.38,-82.43 749.27,-79.27 749.5,-86.26\"/>\n",
       "<text text-anchor=\"middle\" x=\"695.72\" y=\"-93.7\" font-family=\"Times,serif\" font-size=\"14.00\">d(b1)</text>\n",
       "</g>\n",
       "<!-- 14679792272 -->\n",
       "<g id=\"node7\" class=\"node\">\n",
       "<title>14679792272</title>\n",
       "<ellipse fill=\"none\" stroke=\"black\" cx=\"929.25\" cy=\"-163\" rx=\"27\" ry=\"18\"/>\n",
       "<text text-anchor=\"middle\" x=\"929.25\" y=\"-157.95\" font-family=\"Times,serif\" font-size=\"14.00\">X</text>\n",
       "</g>\n",
       "<!-- 14679792848&#45;&gt;14679792272 -->\n",
       "<g id=\"edge1\" class=\"edge\">\n",
       "<title>14679792848&#45;&gt;14679792272</title>\n",
       "<path fill=\"none\" stroke=\"red\" d=\"M827.13,-143.38C847.31,-147.29 871.98,-152.08 891.9,-155.95\"/>\n",
       "<polygon fill=\"red\" stroke=\"red\" points=\"891.04,-159.35 901.52,-157.81 892.37,-152.47 891.04,-159.35\"/>\n",
       "</g>\n",
       "<!-- 14679792080 -->\n",
       "<g id=\"node8\" class=\"node\">\n",
       "<title>14679792080</title>\n",
       "<ellipse fill=\"none\" stroke=\"black\" cx=\"929.25\" cy=\"-109\" rx=\"27\" ry=\"18\"/>\n",
       "<text text-anchor=\"middle\" x=\"929.25\" y=\"-103.95\" font-family=\"Times,serif\" font-size=\"14.00\">W1</text>\n",
       "</g>\n",
       "<!-- 14679792848&#45;&gt;14679792080 -->\n",
       "<g id=\"edge2\" class=\"edge\">\n",
       "<title>14679792848&#45;&gt;14679792080</title>\n",
       "<path fill=\"none\" stroke=\"red\" d=\"M827.13,-128.62C847.31,-124.71 871.98,-119.92 891.9,-116.05\"/>\n",
       "<polygon fill=\"red\" stroke=\"red\" points=\"892.37,-119.53 901.52,-114.19 891.04,-112.65 892.37,-119.53\"/>\n",
       "<text text-anchor=\"middle\" x=\"866.25\" y=\"-127.32\" font-family=\"Times,serif\" font-size=\"14.00\">d(W1)</text>\n",
       "</g>\n",
       "</g>\n",
       "</svg>\n"
      ],
      "text/plain": [
       "<graphviz.graphs.Digraph at 0x36aeba350>"
      ]
     },
     "execution_count": 10,
     "metadata": {},
     "output_type": "execute_result"
    }
   ],
   "source": [
    "softmax.generate_graph(backward=True)"
   ]
  },
  {
   "cell_type": "markdown",
   "metadata": {},
   "source": [
    "For the loss function the gradient is given by:\n",
    "$$\\frac{\\partial L}{\\partial \\hat{y}} = -\\frac{y}{\\hat{y}}$$"
   ]
  },
  {
   "cell_type": "code",
   "execution_count": 11,
   "metadata": {},
   "outputs": [],
   "source": [
    "def nll_grad(y, pred):\n",
    "    return -1 * y / pred"
   ]
  },
  {
   "cell_type": "code",
   "execution_count": 12,
   "metadata": {},
   "outputs": [
    {
     "data": {
      "text/plain": [
       "array([[0.51408579, 0.29557176, 0.19034245],\n",
       "       [0.42508635, 0.26655849, 0.30835516]])"
      ]
     },
     "execution_count": 12,
     "metadata": {},
     "output_type": "execute_result"
    }
   ],
   "source": [
    "predictions = softmax.apply_fwd()\n",
    "\n",
    "predictions[:2]"
   ]
  },
  {
   "cell_type": "code",
   "execution_count": 13,
   "metadata": {},
   "outputs": [],
   "source": [
    "softmax.zero_grad() # zero out the gradients\n",
    "loss_grad = nll_grad(train_y, predictions) # compute the loss gradient\n",
    "softmax.apply_bwd(loss_grad) # pass the loss gradient into the softmax, and run the backward pass\n",
    "softmax.generate_derivative_chains() # generate our derivative equations"
   ]
  },
  {
   "cell_type": "code",
   "execution_count": 14,
   "metadata": {},
   "outputs": [
    {
     "data": {
      "text/plain": [
       "array([[ 1078.86623385,  1452.92238635, -2531.7886202 ],\n",
       "       [  685.34169939,  1438.06439063, -2123.40609002],\n",
       "       [   11.39607931,  3488.94754329, -3500.3436226 ],\n",
       "       [ 1990.1147882 ,   471.22083925, -2461.33562744],\n",
       "       [ -538.48614737,  1989.95610171, -1451.46995434]])"
      ]
     },
     "execution_count": 14,
     "metadata": {},
     "output_type": "execute_result"
    }
   ],
   "source": [
    "w2_param.grad[:5]"
   ]
  },
  {
   "cell_type": "code",
   "execution_count": 15,
   "metadata": {},
   "outputs": [
    {
     "data": {
      "text/latex": [
       "$\\frac{\\partial}{\\partial W2} = \\frac{\\partial softmax(Z2)}{\\partial Z2}*\\frac{\\partial Z2}{\\partial Z1 @ W2}*\\frac{\\partial Z1 @ W2}{\\partial W2}$"
      ],
      "text/plain": [
       "<IPython.core.display.Latex object>"
      ]
     },
     "execution_count": 15,
     "metadata": {},
     "output_type": "execute_result"
    }
   ],
   "source": [
    "display_chain(w2_param.display_partial_derivative())"
   ]
  },
  {
   "cell_type": "code",
   "execution_count": 16,
   "metadata": {},
   "outputs": [
    {
     "data": {
      "text/latex": [
       "$\\frac{\\partial}{\\partial W1} = \\frac{\\partial softmax(Z2)}{\\partial Z2}*\\frac{\\partial Z2}{\\partial Z1 @ W2}*\\frac{\\partial Z1 @ W2}{\\partial A1}*\\frac{\\partial A1}{\\partial Z1}*\\frac{\\partial Z1}{\\partial X @ W1}*\\frac{\\partial X @ W1}{\\partial W1}$"
      ],
      "text/plain": [
       "<IPython.core.display.Latex object>"
      ]
     },
     "execution_count": 16,
     "metadata": {},
     "output_type": "execute_result"
    }
   ],
   "source": [
    "display_chain(w1_param.display_partial_derivative())"
   ]
  },
  {
   "cell_type": "code",
   "execution_count": 17,
   "metadata": {},
   "outputs": [
    {
     "data": {
      "text/plain": [
       "array([[0.8965466 , 0.36756187, 0.43586493],\n",
       "       [0.89192336, 0.80619399, 0.70388858],\n",
       "       [0.10022689, 0.91948261, 0.7142413 ],\n",
       "       [0.99884701, 0.1494483 , 0.86812606],\n",
       "       [0.16249293, 0.61555956, 0.12381998],\n",
       "       [0.84800823, 0.80731896, 0.56910074],\n",
       "       [0.4071833 , 0.069167  , 0.69742877],\n",
       "       [0.45354268, 0.7220556 , 0.86638233],\n",
       "       [0.97552151, 0.85580334, 0.01171408],\n",
       "       [0.35997806, 0.72999056, 0.17162968]])"
      ]
     },
     "execution_count": 17,
     "metadata": {},
     "output_type": "execute_result"
    }
   ],
   "source": [
    "w2_param.data"
   ]
  },
  {
   "cell_type": "code",
   "execution_count": 18,
   "metadata": {},
   "outputs": [
    {
     "data": {
      "text/plain": [
       "array([[ 1078.86623385,  1452.92238635, -2531.7886202 ],\n",
       "       [  685.34169939,  1438.06439063, -2123.40609002],\n",
       "       [   11.39607931,  3488.94754329, -3500.3436226 ],\n",
       "       [ 1990.1147882 ,   471.22083925, -2461.33562744],\n",
       "       [ -538.48614737,  1989.95610171, -1451.46995434],\n",
       "       [  823.86282115,  1728.75677685, -2552.619598  ],\n",
       "       [  876.8179049 ,  2091.18377317, -2968.00167807],\n",
       "       [ 1375.39946375,   693.7355912 , -2069.13505495],\n",
       "       [  705.656685  ,  2007.41199158, -2713.06867658],\n",
       "       [ 1247.97160254,  1539.37464607, -2787.34624861]])"
      ]
     },
     "execution_count": 18,
     "metadata": {},
     "output_type": "execute_result"
    }
   ],
   "source": [
    "w2_param.grad"
   ]
  },
  {
   "cell_type": "code",
   "execution_count": 19,
   "metadata": {},
   "outputs": [],
   "source": [
    "alpha = 0.001"
   ]
  },
  {
   "cell_type": "code",
   "execution_count": 20,
   "metadata": {},
   "outputs": [],
   "source": [
    "w2_new = w2_param.data - alpha * w2_param.grad"
   ]
  },
  {
   "cell_type": "code",
   "execution_count": null,
   "metadata": {},
   "outputs": [],
   "source": []
  }
 ],
 "metadata": {
  "kernelspec": {
   "display_name": ".venv",
   "language": "python",
   "name": "python3"
  },
  "language_info": {
   "codemirror_mode": {
    "name": "ipython",
    "version": 3
   },
   "file_extension": ".py",
   "mimetype": "text/x-python",
   "name": "python",
   "nbconvert_exporter": "python",
   "pygments_lexer": "ipython3",
   "version": "3.11.8"
  }
 },
 "nbformat": 4,
 "nbformat_minor": 2
}
